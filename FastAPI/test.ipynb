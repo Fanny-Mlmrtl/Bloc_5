{
 "cells": [
  {
   "cell_type": "code",
   "execution_count": 1,
   "metadata": {},
   "outputs": [
    {
     "name": "stdout",
     "output_type": "stream",
     "text": [
      "{'prediction': 118.03481846284996}\n"
     ]
    }
   ],
   "source": [
    "import requests\n",
    "\n",
    "response = requests.post(\"https://getaround-api-fm.herokuapp.com/Prediction/\", json={\n",
    "  \"model_key\": \"Mercedes\",\n",
    "  \"mileage\": 181672,\n",
    "  \"engine_power\": 105,\n",
    "  \"fuel\": \"diesel\",\n",
    "  \"paint_color\": \"white\",\n",
    "  \"car_type\": \"hatchback\",\n",
    "  \"private_parking_available\": True,\n",
    "  \"has_gps\": True,\n",
    "  \"has_air_conditioning\": False,\n",
    "  \"automatic_car\": False,\n",
    "  \"has_getaround_connect\": True,\n",
    "  \"has_speed_regulator\": False,\n",
    "  \"winter_tires\": True\n",
    "})\n",
    "\n",
    "print(response.json())"
   ]
  }
 ],
 "metadata": {
  "kernelspec": {
   "display_name": "Python 3.10.8 64-bit (microsoft store)",
   "language": "python",
   "name": "python3"
  },
  "language_info": {
   "codemirror_mode": {
    "name": "ipython",
    "version": 3
   },
   "file_extension": ".py",
   "mimetype": "text/x-python",
   "name": "python",
   "nbconvert_exporter": "python",
   "pygments_lexer": "ipython3",
   "version": "3.10.8"
  },
  "orig_nbformat": 4,
  "vscode": {
   "interpreter": {
    "hash": "b63c058817b0b9b462be608fd8c8c34bbf9aa47de664327ab6ea6299b19ea588"
   }
  }
 },
 "nbformat": 4,
 "nbformat_minor": 2
}
